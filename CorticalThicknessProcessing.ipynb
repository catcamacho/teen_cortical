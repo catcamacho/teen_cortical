{
 "cells": [
  {
   "cell_type": "code",
   "execution_count": 1,
   "metadata": {
    "collapsed": true
   },
   "outputs": [],
   "source": [
    "# Import modules\n",
    "from nipype.pipeline.engine import Workflow, Node, MapNode\n",
    "from nipype.interfaces.utility import IdentityInterface, Function\n",
    "from nipype.interfaces.io import SelectFiles, DataSink, FreeSurferSource\n",
    "from nipype.interfaces.fsl.preprocess import FAST\n",
    "from nipype.interfaces.fsl.utils import Reorient2Std\n",
    "from nipype.interfaces.freesurfer import FSCommand, MRIConvert\n",
    "\n",
    "# Set up study specific variables\n",
    "#project_home = '/Volumes/iang/active/ELS/ELS_FreeSurfer/Analysis'\n",
    "project_home = '/Users/lucindasisk/Dropbox/fs_practice'\n",
    "\n",
    "#fs_subjdir = '/Volumes/iang/active/ELS/ELS_FreeSurfer/ELS_FS_subjDir'\n",
    "fs_subjdir = '/Users/lucindasisk/Dropbox/fs_practice/ELS_FS_subjDir'\n",
    "\n",
    "workflow_dir = project_home + '/workflows'\n",
    "subj_proc = project_home + '/proc/subject'\n",
    "group_proc = project_home + '/proc/group'\n",
    "template_proc = project_home + '/proc/template'\n",
    "subject_info = project_home + '/misc/subjects.csv' \n",
    "template_sub = ['011-T1']\n",
    "\n",
    "#set default FreeSurfer subjects dir\n",
    "FSCommand.set_default_subjects_dir(fs_subjdir)"
   ]
  },
  {
   "cell_type": "code",
   "execution_count": 2,
   "metadata": {
    "collapsed": true
   },
   "outputs": [],
   "source": [
    "######### File handling #########\n",
    "\n",
    "#Pass in list to freesurfer source node (subs) \n",
    "fs_source = MapNode(FreeSurferSource(subjects_dir = fs_subjdir), \n",
    "                    name = 'fs_source', iterfield = ['subject_id'])\n",
    "fs_source.inputs.subject_id = template_sub\n",
    "\n",
    "#set up datasink\n",
    "datasink = Node(DataSink(base_directory = template_proc),\n",
    "                name = 'datasink')"
   ]
  },
  {
   "cell_type": "code",
   "execution_count": null,
   "metadata": {
    "collapsed": true
   },
   "outputs": [],
   "source": [
    "######### Template creation functions #########\n",
    "def makeTemplate(dimensions, num_proc):\n",
    "    output_name = 'ELS_CT_'\n",
    "    \n",
    "    call(['antsMultivariateTemplateConstruction2.sh –d 3 –o %s –b 1 –r 1 –c 2 –j %d *_anat.nii' % (output_name, num_proc)])\n",
    "    \n",
    "    return(template)\n",
    "cmd = 'antsMultivariateTemplateConstruction2.sh –d 3 –o ELS_CT_ –b 1 –r 1 –c 2 –j 6 *_anat.nii'\n"
   ]
  },
  {
   "cell_type": "code",
   "execution_count": 3,
   "metadata": {
    "collapsed": true
   },
   "outputs": [],
   "source": [
    "######### Template creation nodes #########\n",
    "\n",
    "#convert freesurfer files to .nii\n",
    "\n",
    "convert_to_nii = MapNode(MRIConvert(out_file='brainmask.nii.gz',\n",
    "                                    out_type='niigz'), \n",
    "                         name='convert_to_nii', \n",
    "                         iterfield = ['in_file'])\n",
    "\n",
    "#reorient files for safety :)\n",
    "reorient_to_std = MapNode(Reorient2Std(),\n",
    "                         name = 'reorient_to_std',\n",
    "                         iterfield = ['in_file'])\n",
    "\n",
    "#pass files into template function (normalized, pre-skull-stripping) --> T1.mgz\n",
    "\n",
    "#create tissue and brain priors\n",
    "\n",
    "#pull tissue and brainmask.mgz's for each sub and convert to .nii\n",
    "\n",
    "#take converted .nii's and reorient\n",
    "\n",
    "#resulting brainmask gets registered to template (1) ---> results in registration matrix, \"warpfield\"\n",
    "\n",
    "#brainmask gets run through segmentation (2) ---> results in segmentation into 4 tissue classes (fslfast)\n",
    "segment = MapNode(FAST(number_classes = 4), name = 'segment', iterfield = ['in_files'])\n",
    "#need CSF, cortical gray matter, subcortical gray matter, white matter\n",
    "\n",
    "#brainmask gets turned into *actual* brainmask (3) ---> binarized brain mask\n",
    "\n",
    "#apply transformation from registered brainmask to binarized brain mask + tissue segmentations ---> applytransform (FS or FSL)\n",
    "\n",
    "#average binarized brain mask across all subjects\n",
    "\n",
    "#average each of the tissue classes together\n",
    "\n"
   ]
  },
  {
   "cell_type": "code",
   "execution_count": 4,
   "metadata": {},
   "outputs": [
    {
     "ename": "OSError",
     "evalue": "command 'dot' could not be found on host LSmacbook.local\nInterface CommandLine failed to run. ",
     "output_type": "error",
     "traceback": [
      "\u001b[0;31m---------------------------------------------------------------------------\u001b[0m",
      "\u001b[0;31mOSError\u001b[0m                                   Traceback (most recent call last)",
      "\u001b[0;32m<ipython-input-4-2caa53a5912e>\u001b[0m in \u001b[0;36m<module>\u001b[0;34m()\u001b[0m\n\u001b[1;32m      8\u001b[0m \u001b[0;34m\u001b[0m\u001b[0m\n\u001b[1;32m      9\u001b[0m \u001b[0mtemplate_tissue_flow\u001b[0m\u001b[0;34m.\u001b[0m\u001b[0mbase_dir\u001b[0m \u001b[0;34m=\u001b[0m \u001b[0mworkflow_dir\u001b[0m\u001b[0;34m\u001b[0m\u001b[0m\n\u001b[0;32m---> 10\u001b[0;31m \u001b[0mtemplate_tissue_flow\u001b[0m\u001b[0;34m.\u001b[0m\u001b[0mwrite_graph\u001b[0m\u001b[0;34m(\u001b[0m\u001b[0mgraph2use\u001b[0m \u001b[0;34m=\u001b[0m \u001b[0;34m'flat'\u001b[0m\u001b[0;34m)\u001b[0m\u001b[0;34m\u001b[0m\u001b[0m\n\u001b[0m\u001b[1;32m     11\u001b[0m \u001b[0mtemplate_tissue_flow\u001b[0m\u001b[0;34m.\u001b[0m\u001b[0mrun\u001b[0m\u001b[0;34m(\u001b[0m\u001b[0;34m'MultiProc'\u001b[0m\u001b[0;34m,\u001b[0m \u001b[0mplugin_args\u001b[0m\u001b[0;34m=\u001b[0m\u001b[0;34m{\u001b[0m\u001b[0;34m'n_procs'\u001b[0m\u001b[0;34m:\u001b[0m \u001b[0;36m1\u001b[0m\u001b[0;34m}\u001b[0m\u001b[0;34m)\u001b[0m\u001b[0;34m\u001b[0m\u001b[0m\n",
      "\u001b[0;32m/Users/lucindasisk/anaconda/lib/python3.6/site-packages/nipype/pipeline/engine/workflows.py\u001b[0m in \u001b[0;36mwrite_graph\u001b[0;34m(self, dotfilename, graph2use, format, simple_form)\u001b[0m\n\u001b[1;32m    441\u001b[0m                 \u001b[0mgraph\u001b[0m \u001b[0;34m=\u001b[0m \u001b[0mgenerate_expanded_graph\u001b[0m\u001b[0;34m(\u001b[0m\u001b[0mdeepcopy\u001b[0m\u001b[0;34m(\u001b[0m\u001b[0mgraph\u001b[0m\u001b[0;34m)\u001b[0m\u001b[0;34m)\u001b[0m\u001b[0;34m\u001b[0m\u001b[0m\n\u001b[1;32m    442\u001b[0m             outfname = export_graph(graph, base_dir, dotfilename=dotfilename,\n\u001b[0;32m--> 443\u001b[0;31m                                     format=format, simple_form=simple_form)\n\u001b[0m\u001b[1;32m    444\u001b[0m \u001b[0;34m\u001b[0m\u001b[0m\n\u001b[1;32m    445\u001b[0m         logger.info('Generated workflow graph: %s (graph2use=%s, simple_form=%s).' % (\n",
      "\u001b[0;32m/Users/lucindasisk/anaconda/lib/python3.6/site-packages/nipype/pipeline/engine/utils.py\u001b[0m in \u001b[0;36mexport_graph\u001b[0;34m(graph_in, base_dir, show, use_execgraph, show_connectinfo, dotfilename, format, simple_form)\u001b[0m\n\u001b[1;32m   1022\u001b[0m     \u001b[0;32mif\u001b[0m \u001b[0mformat\u001b[0m \u001b[0;34m!=\u001b[0m \u001b[0;34m'dot'\u001b[0m\u001b[0;34m:\u001b[0m\u001b[0;34m\u001b[0m\u001b[0m\n\u001b[1;32m   1023\u001b[0m         \u001b[0mcmd\u001b[0m \u001b[0;34m=\u001b[0m \u001b[0;34m'dot -T%s -O %s'\u001b[0m \u001b[0;34m%\u001b[0m \u001b[0;34m(\u001b[0m\u001b[0mformat\u001b[0m\u001b[0;34m,\u001b[0m \u001b[0moutfname\u001b[0m\u001b[0;34m)\u001b[0m\u001b[0;34m\u001b[0m\u001b[0m\n\u001b[0;32m-> 1024\u001b[0;31m         \u001b[0mres\u001b[0m \u001b[0;34m=\u001b[0m \u001b[0mCommandLine\u001b[0m\u001b[0;34m(\u001b[0m\u001b[0mcmd\u001b[0m\u001b[0;34m,\u001b[0m \u001b[0mterminal_output\u001b[0m\u001b[0;34m=\u001b[0m\u001b[0;34m'allatonce'\u001b[0m\u001b[0;34m)\u001b[0m\u001b[0;34m.\u001b[0m\u001b[0mrun\u001b[0m\u001b[0;34m(\u001b[0m\u001b[0;34m)\u001b[0m\u001b[0;34m\u001b[0m\u001b[0m\n\u001b[0m\u001b[1;32m   1025\u001b[0m         \u001b[0;32mif\u001b[0m \u001b[0mres\u001b[0m\u001b[0;34m.\u001b[0m\u001b[0mruntime\u001b[0m\u001b[0;34m.\u001b[0m\u001b[0mreturncode\u001b[0m\u001b[0;34m:\u001b[0m\u001b[0;34m\u001b[0m\u001b[0m\n\u001b[1;32m   1026\u001b[0m             \u001b[0mlogger\u001b[0m\u001b[0;34m.\u001b[0m\u001b[0mwarn\u001b[0m\u001b[0;34m(\u001b[0m\u001b[0;34m'dot2png: %s'\u001b[0m\u001b[0;34m,\u001b[0m \u001b[0mres\u001b[0m\u001b[0;34m.\u001b[0m\u001b[0mruntime\u001b[0m\u001b[0;34m.\u001b[0m\u001b[0mstderr\u001b[0m\u001b[0;34m)\u001b[0m\u001b[0;34m\u001b[0m\u001b[0m\n",
      "\u001b[0;32m/Users/lucindasisk/anaconda/lib/python3.6/site-packages/nipype/interfaces/base.py\u001b[0m in \u001b[0;36mrun\u001b[0;34m(self, **inputs)\u001b[0m\n\u001b[1;32m   1079\u001b[0m                         version=self.version)\n\u001b[1;32m   1080\u001b[0m         \u001b[0;32mtry\u001b[0m\u001b[0;34m:\u001b[0m\u001b[0;34m\u001b[0m\u001b[0m\n\u001b[0;32m-> 1081\u001b[0;31m             \u001b[0mruntime\u001b[0m \u001b[0;34m=\u001b[0m \u001b[0mself\u001b[0m\u001b[0;34m.\u001b[0m\u001b[0m_run_wrapper\u001b[0m\u001b[0;34m(\u001b[0m\u001b[0mruntime\u001b[0m\u001b[0;34m)\u001b[0m\u001b[0;34m\u001b[0m\u001b[0m\n\u001b[0m\u001b[1;32m   1082\u001b[0m             \u001b[0moutputs\u001b[0m \u001b[0;34m=\u001b[0m \u001b[0mself\u001b[0m\u001b[0;34m.\u001b[0m\u001b[0maggregate_outputs\u001b[0m\u001b[0;34m(\u001b[0m\u001b[0mruntime\u001b[0m\u001b[0;34m)\u001b[0m\u001b[0;34m\u001b[0m\u001b[0m\n\u001b[1;32m   1083\u001b[0m             \u001b[0mruntime\u001b[0m\u001b[0;34m.\u001b[0m\u001b[0mendTime\u001b[0m \u001b[0;34m=\u001b[0m \u001b[0mdt\u001b[0m\u001b[0;34m.\u001b[0m\u001b[0misoformat\u001b[0m\u001b[0;34m(\u001b[0m\u001b[0mdt\u001b[0m\u001b[0;34m.\u001b[0m\u001b[0mutcnow\u001b[0m\u001b[0;34m(\u001b[0m\u001b[0;34m)\u001b[0m\u001b[0;34m)\u001b[0m\u001b[0;34m\u001b[0m\u001b[0m\n",
      "\u001b[0;32m/Users/lucindasisk/anaconda/lib/python3.6/site-packages/nipype/interfaces/base.py\u001b[0m in \u001b[0;36m_run_wrapper\u001b[0;34m(self, runtime)\u001b[0m\n\u001b[1;32m   1722\u001b[0m \u001b[0;34m\u001b[0m\u001b[0m\n\u001b[1;32m   1723\u001b[0m     \u001b[0;32mdef\u001b[0m \u001b[0m_run_wrapper\u001b[0m\u001b[0;34m(\u001b[0m\u001b[0mself\u001b[0m\u001b[0;34m,\u001b[0m \u001b[0mruntime\u001b[0m\u001b[0;34m)\u001b[0m\u001b[0;34m:\u001b[0m\u001b[0;34m\u001b[0m\u001b[0m\n\u001b[0;32m-> 1724\u001b[0;31m         \u001b[0mruntime\u001b[0m \u001b[0;34m=\u001b[0m \u001b[0mself\u001b[0m\u001b[0;34m.\u001b[0m\u001b[0m_run_interface\u001b[0m\u001b[0;34m(\u001b[0m\u001b[0mruntime\u001b[0m\u001b[0;34m)\u001b[0m\u001b[0;34m\u001b[0m\u001b[0m\n\u001b[0m\u001b[1;32m   1725\u001b[0m         \u001b[0;32mreturn\u001b[0m \u001b[0mruntime\u001b[0m\u001b[0;34m\u001b[0m\u001b[0m\n\u001b[1;32m   1726\u001b[0m \u001b[0;34m\u001b[0m\u001b[0m\n",
      "\u001b[0;32m/Users/lucindasisk/anaconda/lib/python3.6/site-packages/nipype/interfaces/base.py\u001b[0m in \u001b[0;36m_run_interface\u001b[0;34m(self, runtime, correct_return_codes)\u001b[0m\n\u001b[1;32m   1748\u001b[0m         \u001b[0;32mif\u001b[0m \u001b[0;32mnot\u001b[0m \u001b[0mexist_val\u001b[0m\u001b[0;34m:\u001b[0m\u001b[0;34m\u001b[0m\u001b[0m\n\u001b[1;32m   1749\u001b[0m             raise IOError(\"command '%s' could not be found on host %s\" %\n\u001b[0;32m-> 1750\u001b[0;31m                           (self.cmd.split()[0], runtime.hostname))\n\u001b[0m\u001b[1;32m   1751\u001b[0m         \u001b[0msetattr\u001b[0m\u001b[0;34m(\u001b[0m\u001b[0mruntime\u001b[0m\u001b[0;34m,\u001b[0m \u001b[0;34m'command_path'\u001b[0m\u001b[0;34m,\u001b[0m \u001b[0mcmd_path\u001b[0m\u001b[0;34m)\u001b[0m\u001b[0;34m\u001b[0m\u001b[0m\n\u001b[1;32m   1752\u001b[0m         setattr(runtime, 'dependencies', get_dependencies(executable_name,\n",
      "\u001b[0;31mOSError\u001b[0m: command 'dot' could not be found on host LSmacbook.local\nInterface CommandLine failed to run. "
     ]
    }
   ],
   "source": [
    "######### Template and tissue segmentation workflow #########\n",
    "template_tissue_flow = Workflow(name = \"template_tissue_flow\")\n",
    "template_tissue_flow.connect([(fs_source, convert_to_nii, [('brainmask','in_file')]),\n",
    "                              (convert_to_nii, reorient_to_std, [('out_file', 'in_file')]),\n",
    "                              (reorient_to_std, segment, [('out_file', 'in_files')]),\n",
    "                              (segment, datasink, [('tissue_class_files', 'tissue_class_files')])\n",
    "                             ])\n",
    "\n",
    "template_tissue_flow.base_dir = workflow_dir\n",
    "template_tissue_flow.write_graph(graph2use = 'flat')\n",
    "template_tissue_flow.run('MultiProc', plugin_args={'n_procs': 1})"
   ]
  },
  {
   "cell_type": "code",
   "execution_count": null,
   "metadata": {
    "collapsed": true
   },
   "outputs": [],
   "source": [
    "######### Cortical thickness functions #########\n",
    "\n",
    "cmd = 'antsCorticalThickness.sh -d 3 -a t1.nii.gz -e Template.nii.gz -m brainmask.nii.gz -p segmentationPriors%d.nii.gz -o subject'"
   ]
  },
  {
   "cell_type": "code",
   "execution_count": null,
   "metadata": {
    "collapsed": true
   },
   "outputs": [],
   "source": [
    "######### Cortical thickness nodes #########\n"
   ]
  },
  {
   "cell_type": "code",
   "execution_count": null,
   "metadata": {
    "collapsed": true
   },
   "outputs": [],
   "source": [
    "######### Cortical thickness workflow #########"
   ]
  }
 ],
 "metadata": {
  "kernelspec": {
   "display_name": "Python 3",
   "language": "python",
   "name": "python3"
  },
  "language_info": {
   "codemirror_mode": {
    "name": "ipython",
    "version": 3
   },
   "file_extension": ".py",
   "mimetype": "text/x-python",
   "name": "python",
   "nbconvert_exporter": "python",
   "pygments_lexer": "ipython3",
   "version": "3.6.1"
  }
 },
 "nbformat": 4,
 "nbformat_minor": 2
}
