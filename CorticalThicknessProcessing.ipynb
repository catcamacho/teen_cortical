{
 "cells": [
  {
   "cell_type": "code",
   "execution_count": null,
   "metadata": {
    "collapsed": true
   },
   "outputs": [],
   "source": [
    "# Import modules\n",
    "from nipype.pipeline.engine import Workflow, Node, MapNode\n",
    "from nipype.interfaces.utility import IdentityInterface, Function\n",
    "from nipype.interfaces.io import SelectFiles, DataSink, FreeSurferSource\n",
    "from nipype.interfaces.fsl.preprocess import FAST\n",
    "from nipype.interfaces.fsl.utils import Reorient2Std\n",
    "from nipype.interfaces.freesurfer import FSCommand, MRIConvert\n",
    "\n",
    "# Set up study specific variables\n",
    "#project_home = '/Volumes/iang/active/ELS/ELS_FreeSurfer/Analysis'\n",
    "project_home = '/Users/lucindasisk/Documents/fs_practice'\n",
    "\n",
    "#fs_subjdir = '/Volumes/iang/active/ELS/ELS_FreeSurfer/ELS_FS_subjDir'\n",
    "fs_subjdir = '/Users/lucindasisk/Documents/fs_practice/ELS_FS_subjDir'\n",
    "\n",
    "workflow_dir = project_home + '/workflows'\n",
    "subj_proc = project_home + '/proc/subject'\n",
    "group_proc = project_home + '/proc/group'\n",
    "template_proc = project_home + '/proc/template'\n",
    "subject_info = project_home + '/misc/subjects.csv' \n",
    "template_sub = ['011-T1']\n",
    "\n",
    "#set default FreeSurfer subjects dir\n",
    "FSCommand.set_default_subjects_dir(fs_subjdir)"
   ]
  },
  {
   "cell_type": "code",
   "execution_count": null,
   "metadata": {
    "collapsed": true
   },
   "outputs": [],
   "source": [
    "######### File handling #########\n",
    "\n",
    "#Pass in list to freesurfer source node (subs) \n",
    "fs_source = MapNode(FreeSurferSource(subjects_dir = fs_subjdir), \n",
    "                    name = 'fs_source', iterfield = [\"subject_id\"])\n",
    "fs_source.inputs.subject_id = template_sub\n",
    "\n",
    "#set up datasink\n",
    "datasink = Node(DataSink(base_directory = template_proc),\n",
    "                name = 'datasink')"
   ]
  },
  {
   "cell_type": "code",
   "execution_count": null,
   "metadata": {
    "collapsed": true
   },
   "outputs": [],
   "source": [
    "######### Template creation functions #########\n",
    "def makeTemplate(dimensions, num_proc):\n",
    "    output_name = 'ELS_CT_'\n",
    "    \n",
    "    call(['antsMultivariateTemplateConstruction2.sh –d 3 –o %s –b 1 –r 1 –c 2 –j %d *_anat.nii' % (output_name, num_proc)])\n",
    "    \n",
    "    return(template)\n",
    "cmd = 'antsMultivariateTemplateConstruction2.sh –d 3 –o ELS_CT_ –b 1 –r 1 –c 2 –j 6 *_anat.nii'\n"
   ]
  },
  {
   "cell_type": "code",
   "execution_count": null,
   "metadata": {
    "collapsed": true
   },
   "outputs": [],
   "source": [
    "######### Template creation nodes #########\n",
    "\n",
    "#convert freesurfer files to .nii\n",
    "mask = fs_subjdir + '/' + prac_sub + '/mri' + '/brainmask.mgz'\n",
    "mc = MRIConvert()\n",
    "mc.inputs.in_file = fs_subjdir + '/' + prac_sub + '/mri/brainmask.mgz'\n",
    "mc.inputs.out_file = fs_subjdir + '/' + prac_sub + '/mri/brainmask_converted.nii.gz'\n",
    "mc.inputs.in_type = 'mgz'\n",
    "mc.inputs.out_type = 'niigz'\n",
    "res = mc.run()\n",
    "\n",
    "#reorient files for safety :)\n",
    "mask_nii = fs_subjdir + '/' + prac_sub + '/mri' + '/brainmask_converted.nii.gz'\n",
    "reorient = Reorient2Std()\n",
    "reorient.inputs.in_file = mask_nii\n",
    "res = reorient.run()\n",
    "\n",
    "#pass files into template function (normalized, pre-skull-stripping) --> T1.mgz\n",
    "\n",
    "#create tissue and brain priors\n",
    "\n",
    "#pull tissue and brainmask.mgz's for each sub and convert to .nii\n",
    "\n",
    "#take converted .nii's and reorient\n",
    "\n",
    "#resulting brainmask gets registered to template (1) ---> results in registration matrix, \"warpfield\"\n",
    "\n",
    "#brainmask gets run through segmentation (2) ---> results in segmentation into 4 tissue classes (fslfast)\n",
    "segment = MapNode(FAST(number_classes = 4), name = 'segment', iterfield = ['in_files'])\n",
    "#need CSF, cortical gray matter, subcortical gray matter, white matter\n",
    "\n",
    "#brainmask gets turned into *actual* brainmask (3) ---> binarized brain mask\n",
    "\n",
    "#apply transformation from registered brainmask to binarized brain mask + tissue segmentations ---> applytransform (FS or FSL)\n",
    "\n",
    "#average binarized brain mask across all subjects\n",
    "\n",
    "#average each of the tissue classes together\n",
    "\n"
   ]
  },
  {
   "cell_type": "code",
   "execution_count": null,
   "metadata": {
    "collapsed": true
   },
   "outputs": [],
   "source": [
    "######### Template and tissue segmentation workflow #########\n",
    "template_tissue_flow = Workflow(name = \"template_tissue_flow\")\n",
    "template_tissue_flow.connect([(fs_source, segment, [('brainmask', 'in_files')]),\n",
    "                             (segment, datasink, [('tissue_class_files', 'tissue_class_files')])\n",
    "                             ])\n",
    "\n",
    "template_tissue_flow.base_dir = workflow_dir\n",
    "template_tissue_flow.write_graph(graph2use = 'flat')\n",
    "template_tissue_flow.run('MultiProc', plugin_args={'n_procs': 8})"
   ]
  },
  {
   "cell_type": "code",
   "execution_count": null,
   "metadata": {
    "collapsed": true
   },
   "outputs": [],
   "source": [
    "######### Cortical thickness functions #########\n",
    "\n",
    "cmd = 'antsCorticalThickness.sh -d 3 -a t1.nii.gz -e Template.nii.gz -m brainmask.nii.gz -p segmentationPriors%d.nii.gz -o subject'"
   ]
  },
  {
   "cell_type": "code",
   "execution_count": null,
   "metadata": {
    "collapsed": true
   },
   "outputs": [],
   "source": [
    "######### Cortical thickness nodes #########\n"
   ]
  },
  {
   "cell_type": "code",
   "execution_count": null,
   "metadata": {
    "collapsed": true
   },
   "outputs": [],
   "source": [
    "######### Cortical thickness workflow #########"
   ]
  }
 ],
 "metadata": {
  "kernelspec": {
   "display_name": "Python 3",
   "language": "python",
   "name": "python3"
  },
  "language_info": {
   "codemirror_mode": {
    "name": "ipython",
    "version": 3
   },
   "file_extension": ".py",
   "mimetype": "text/x-python",
   "name": "python",
   "nbconvert_exporter": "python",
   "pygments_lexer": "ipython3",
   "version": "3.6.1"
  }
 },
 "nbformat": 4,
 "nbformat_minor": 2
}
